{
 "cells": [
  {
   "cell_type": "markdown",
   "id": "1f410be0",
   "metadata": {},
   "source": [
    "# Travail à faire pour lundi 11 avril 2022\n",
    "\n",
    "Répondre aux questions posées dans les cellules de textes vides ( `...` sous `Rédigez votre réponse`) et rédiger le programme de simulation en Python (dernière cellule).\n",
    "\n",
    "Quand vous avez fini, télécharger votre travail (`Fichier` `Télécharger au format` ou `Download as` choisir `Notebook(.ipynb)`).\n",
    "\n",
    "Vous pouvez maintenant le déposer dans Pronote.\n"
   ]
  },
  {
   "cell_type": "markdown",
   "id": "68b178af",
   "metadata": {},
   "source": [
    "Nous avons programmé en cours la simulation de la naissance d'un lapereau issu d'un couple angora.\n",
    "\n",
    "``` js\n",
    "from random import *\n",
    "naissance = randint(1,4)\n",
    "if naissance == 1:\n",
    "    print(\"le lapereau est angora\")\n",
    "else:\n",
    "    print(\"le lapereau n'est pas angora\")\n",
    "```\n",
    "\n",
    "\n"
   ]
  },
  {
   "cell_type": "markdown",
   "id": "188e9464",
   "metadata": {},
   "source": [
    "Expliquer pourquoi on utilise un nombre aléatoire entre 1 et 4.\n",
    "\n",
    "`Rédigez votre réponse : `"
   ]
  },
  {
   "cell_type": "markdown",
   "id": "31b695dd",
   "metadata": {},
   "source": [
    "..."
   ]
  },
  {
   "cell_type": "markdown",
   "id": "4561bb95",
   "metadata": {},
   "source": [
    "Nous avons ensuite simulé la naissance de 3 lapereaux et compté combien d'entre eux étaient angoras."
   ]
  },
  {
   "cell_type": "code",
   "execution_count": null,
   "id": "4a53fd6c",
   "metadata": {},
   "outputs": [],
   "source": [
    "from random import *\n",
    "nb_angora = 0\n",
    "for i in range(3):\n",
    "    naissance = randint(1,4)\n",
    "    if naissance == 1:\n",
    "        nb_angora = nb_angora + 1\n",
    "print(\"le nombre de lapereaux angora parmis les 3 est : \",nb_angora)"
   ]
  },
  {
   "cell_type": "markdown",
   "id": "81566b80",
   "metadata": {},
   "source": [
    "Quel est le rôle de l'instruction :\n",
    "\n",
    "```js\n",
    "nb_angora = 0\n",
    "```\n",
    "\n",
    "`Rédigez votre réponse : `"
   ]
  },
  {
   "cell_type": "markdown",
   "id": "5fb40194",
   "metadata": {},
   "source": [
    "..."
   ]
  },
  {
   "cell_type": "markdown",
   "id": "b9ed1b37",
   "metadata": {},
   "source": [
    "Quel est le rôle de l'instruction :\n",
    "\n",
    "```js\n",
    "naissance == 1\n",
    "```\n",
    "\n",
    "`Rédigez votre réponse : `"
   ]
  },
  {
   "cell_type": "markdown",
   "id": "51fb5376",
   "metadata": {},
   "source": [
    "..."
   ]
  },
  {
   "cell_type": "markdown",
   "id": "da3549c2",
   "metadata": {},
   "source": [
    "Quel est le rôle de l'instruction :\n",
    "\n",
    "```js\n",
    "nb_angora = nb_angora + 1\n",
    "```\n",
    "\n",
    "`Rédigez votre réponse : `"
   ]
  },
  {
   "cell_type": "markdown",
   "id": "3860ece4",
   "metadata": {},
   "source": [
    "..."
   ]
  },
  {
   "cell_type": "markdown",
   "id": "05ea1493",
   "metadata": {},
   "source": [
    "La simulation de 1000 naissances de fratries de 3 lapereaux, avec comptage du nombre de fratries comportant 2 lapereaux angoras et calcul de la proportion correspondante est donnée par l'algorithme suivant :\n",
    "\n",
    "\n",
    "Importer toute les fonction de la bibliothèque random<br>\n",
    "compteur $\\leftarrow$ 0<br>\n",
    "Pour n variant de 0 à 999 faire<br>\n",
    "&nbsp; | &nbsp;&nbsp; nb_angora $ \\leftarrow $ 0<br>\n",
    "&nbsp; | &nbsp;&nbsp; Pour i variant de 0 à 2 faire <br>\n",
    "&nbsp; | &nbsp;&nbsp;&nbsp; | &nbsp;&nbsp; naissance $ \\leftarrow $ entier aléatoire entre 1 et 4 <br>\n",
    "&nbsp; | &nbsp;&nbsp;&nbsp; | &nbsp;&nbsp; Si naissance = 1  alors <br>\n",
    "&nbsp; | &nbsp;&nbsp;&nbsp; | &nbsp;&nbsp;&nbsp; | &nbsp;&nbsp;nb_angora $\\leftarrow$ nb_angora + 1 <br>\n",
    "&nbsp; | &nbsp;&nbsp;&nbsp; | &nbsp;&nbsp; Fin du Si<br>\n",
    "&nbsp; | &nbsp;&nbsp; Fin du Pour <br>\n",
    "&nbsp; | &nbsp;&nbsp; Si nb_angora = 2 alors <br>\n",
    "&nbsp; | &nbsp;&nbsp;&nbsp; | &nbsp;&nbsp; compteur $\\leftarrow$ compteur + 1 <br>\n",
    "&nbsp; | &nbsp;&nbsp; Fin du Si <br>\n",
    "Fin du Pour <br>\n",
    "proportion $\\leftarrow$ compteur $\\div$ 1000<br>\n",
    "Afficher proportion<br>"
   ]
  },
  {
   "cell_type": "markdown",
   "id": "e86c1814",
   "metadata": {},
   "source": [
    "À vous de traduire l'algorithme en Python (une partie est déjà tapée et indentée correctement)."
   ]
  },
  {
   "cell_type": "code",
   "execution_count": null,
   "id": "fa8b291c",
   "metadata": {},
   "outputs": [],
   "source": [
    "from random import *\n",
    "\n",
    "# initialiser le compteur\n",
    "\n",
    "# faire une boucle de 1000 simulations\n",
    "\n",
    "    \n",
    "    nb_angora = 0\n",
    "    for i in range(3):\n",
    "        naissance = randint(1,4)\n",
    "        if naissance == 1:\n",
    "            nb_angora = nb_angora+1\n",
    "    \n",
    "    # tester si la fratrie comporte 2 angoras\n",
    "    \n",
    "        # si oui, augmenter le compteur\n",
    "\n",
    "# calculer la proportion \n",
    "\n",
    "# afficher la proportion de fratries comportant 2 angoras            \n"
   ]
  }
 ],
 "metadata": {
  "kernelspec": {
   "display_name": "Python 3 (ipykernel)",
   "language": "python",
   "name": "python3"
  },
  "language_info": {
   "codemirror_mode": {
    "name": "ipython",
    "version": 3
   },
   "file_extension": ".py",
   "mimetype": "text/x-python",
   "name": "python",
   "nbconvert_exporter": "python",
   "pygments_lexer": "ipython3",
   "version": "3.9.7"
  }
 },
 "nbformat": 4,
 "nbformat_minor": 5
}
